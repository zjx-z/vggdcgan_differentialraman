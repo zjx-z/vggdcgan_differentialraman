{
 "cells": [
  {
   "cell_type": "code",
   "execution_count": null,
   "metadata": {},
   "outputs": [],
   "source": [
    "import os\n",
    "from PIL import Image\n",
    "\n",
    "def convert_png_to_jpg(source_folder, target_folder):\n",
    "    # 确保目标文件夹存在\n",
    "    if not os.path.exists(target_folder):\n",
    "        os.makedirs(target_folder)\n",
    "\n",
    "    # 遍历源文件夹中的所有文件\n",
    "    for filename in os.listdir(source_folder):\n",
    "        if filename.lower().endswith('.png'):\n",
    "            # 构建完整的文件路径\n",
    "            source_path = os.path.join(source_folder, filename)\n",
    "            target_path = os.path.join(target_folder, filename[:-4] + '.jpg')\n",
    "\n",
    "            # 打开图片\n",
    "            with Image.open(source_path) as img:\n",
    "                # 转换图片并保存为JPG格式\n",
    "                img = img.convert('RGB')  # 确保图片是RGB模式\n",
    "                img.save(target_path, 'JPEG')\n",
    "\n",
    "            print(f'Converted {source_path} to {target_path}')\n",
    "\n",
    "# 使用示例\n",
    "source_folder = 'E:/food_readraman/picture2'  # PNG文件所在的文件夹路径\n",
    "target_folder = 'E:/food_readraman/picture_2'  # 转换后的JPG文件保存的文件夹路径\n",
    "\n",
    "convert_png_to_jpg(source_folder, target_folder)"
   ]
  }
 ],
 "metadata": {
  "language_info": {
   "name": "python"
  }
 },
 "nbformat": 4,
 "nbformat_minor": 2
}
