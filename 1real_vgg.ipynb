{
 "cells": [
  {
   "cell_type": "code",
   "execution_count": null,
   "metadata": {},
   "outputs": [],
   "source": [
    "#本代码用vgg16在imagenet预训练的权重提取图像特征并写入txt文件\n",
    "#图像只接受三通道，png可能报错，灰度图也不行，png转jpg代码"
   ]
  },
  {
   "cell_type": "code",
   "execution_count": 2,
   "metadata": {},
   "outputs": [],
   "source": [
    "import torch\n",
    "import torch.nn as nn\n",
    "from torch.autograd import Variable\n",
    "from torchvision import models, transforms\n",
    "from PIL import Image\n",
    "import numpy as np\n",
    "import os, glob\n",
    "import h5py\n",
    "import time\n",
    "from tqdm import tqdm"
   ]
  },
  {
   "cell_type": "code",
   "execution_count": 3,
   "metadata": {},
   "outputs": [],
   "source": [
    "class Encoder(nn.Module):\n",
    "    def __init__(self):\n",
    "        super(Encoder, self).__init__()\n",
    "        VGG = models.vgg16(pretrained=True)#使用与训练权重\n",
    "        self.feature = VGG.features\n",
    "    def forward(self, x):\n",
    "        output = self.feature(x)#输出维度为（512*7*7）\n",
    "        m = nn.MaxPool2d(7, stride=1)\n",
    "        output = m(output)#对输出的维度进行平均池化->（512*1*1）\n",
    "        output = output.view(output.size(0), -1)#512*1\n",
    "        return output"
   ]
  },
  {
   "cell_type": "code",
   "execution_count": 4,
   "metadata": {},
   "outputs": [
    {
     "name": "stderr",
     "output_type": "stream",
     "text": [
      "d:\\ana_conda\\envs\\PMT\\lib\\site-packages\\torchvision\\models\\_utils.py:208: UserWarning: The parameter 'pretrained' is deprecated since 0.13 and may be removed in the future, please use 'weights' instead.\n",
      "  warnings.warn(\n",
      "d:\\ana_conda\\envs\\PMT\\lib\\site-packages\\torchvision\\models\\_utils.py:223: UserWarning: Arguments other than a weight enum or `None` for 'weights' are deprecated since 0.13 and may be removed in the future. The current behavior is equivalent to passing `weights=VGG16_Weights.IMAGENET1K_V1`. You can also use `weights=VGG16_Weights.DEFAULT` to get the most up-to-date weights.\n",
      "  warnings.warn(msg)\n"
     ]
    }
   ],
   "source": [
    "model = Encoder()#定义模型\n",
    "def extractor(img_path, net, use_gpu, file_name):\n",
    "    transform = transforms.Compose([\n",
    "        transforms.Resize(256),\n",
    "        transforms.CenterCrop(224),\n",
    "        transforms.ToTensor()]\n",
    "    )#将图像转化为张量的形式，同时扩充224*224\n",
    "    img = Image.open(img_path)#读取图像\n",
    "    img = transform(img)\n",
    "    x = Variable(torch.unsqueeze(img, dim=0).float(), requires_grad=False)\n",
    "    if use_gpu:\n",
    "        x = x.cuda()\n",
    "        net = net.cuda()\n",
    "    y = net(x).cpu()\n",
    "    y = torch.squeeze(y)\n",
    "    ys = y.data.numpy()\n",
    "    file_names = file_name\n",
    "    return file_names, ys\n"
   ]
  },
  {
   "cell_type": "code",
   "execution_count": 5,
   "metadata": {},
   "outputs": [
    {
     "name": "stdout",
     "output_type": "stream",
     "text": [
      "[]\n",
      "['10_3693d_差分.jpg', '111111111111111_3683d_差分.jpg', '11_3694d_差分.jpg', '12-1_3737d_差分.jpg', '12_3695d_差分.jpg', '13_3696d_差分.jpg', '14_3697d_差分.jpg', '15-1_3740d_差分.jpg', '15_3698d_差分.jpg', '16-1_3700d_差分.jpg', '16_3699d_差分.jpg', '18_3701d_差分.jpg', '19_3702d_差分.jpg', '1_3684d_差分.jpg', '2-1_3736d_差分.jpg', '20_3703d_差分.jpg', '21_3704d_差分.jpg', '22-1_3739d_差分.jpg', '22_3705d_差分.jpg', '23_3706d_差分.jpg', '24_3707d_差分.jpg', '25_3708d_差分.jpg', '26_3709d_差分.jpg', '27_3710d_差分.jpg', '28_3711d_差分.jpg', '29_3712d_差分.jpg', '2_3685d_差分.jpg', '3-1_3738d_差分.jpg', '30_3713d_差分.jpg', '31_3714d_差分.jpg', '32_3715d_差分.jpg', '33_3716d_差分.jpg', '34_3717d_差分.jpg', '35_3718d_差分.jpg', '36_3719d_差分.jpg', '37_3720d_差分.jpg', '38_3721d_差分.jpg', '39_3722d_差分.jpg', '3_3686d_差分.jpg', '40-1_3743d_差分.jpg', '40_3723d_差分.jpg', '41_3724d_差分.jpg', '42_3725d_差分.jpg', '43_3726d_差分.jpg', '44_3727d_差分.jpg', '45_3728d_差分.jpg', '46-1_3745d_差分.jpg', '46_3729d_差分.jpg', '47_3730d_差分.jpg', '48-1_3746d_差分.jpg', '48_3731d_差分.jpg', '49-1_3748d_差分.jpg', '49_3732d_差分.jpg', '4_3687d_差分.jpg', '50-1_3747d_差分.jpg', '50_3733d_差分.jpg', '51_3734d_差分.jpg', '52_3735d_差分.jpg', '5_3688d_差分.jpg', '6_3689d_差分.jpg', '7-1_3742d_差分.jpg', '7_3690d_差分.jpg', '8-1_3741d_差分.jpg', '8_3691d_差分.jpg', '9_3692d_差分.jpg', '复5-1_3749d_差分.jpg', '复5-2_3750d_差分.jpg', '复5-3_3751d_差分.jpg', '复5-4_3752d_差分.jpg', '复5-5_3753d_差分.jpg', '铝片_3744d_差分.jpg']\n"
     ]
    },
    {
     "name": "stderr",
     "output_type": "stream",
     "text": [
      "Extracting features: 100%|██████████| 71/71 [00:10<00:00,  6.90it/s, Img_name=480360_71\\480360 _71\\铝片_3744d_差分.jpg] ]          "
     ]
    },
    {
     "name": "stdout",
     "output_type": "stream",
     "text": [
      "文本已写入到文件：features_480360_71.txt\n"
     ]
    },
    {
     "name": "stderr",
     "output_type": "stream",
     "text": [
      "\n"
     ]
    }
   ],
   "source": [
    "#这块可以跑通输出写有特征的txt文件,使用 另存为 功能转为csv文件即可\n",
    "if __name__ == '__main__':\n",
    "    #data_dir = 'E:/3_食品塑料包装\\食品塑料包装\\picture1/1_3684d_原始.png'#图像路径\n",
    "    data_dir = 'E:/480360data/480360_71'#图像路径，该文件夹下不能直接是图片，而要一个文件夹，里面是才是图片\n",
    "    files_list = []\n",
    "    names = []\n",
    "    features = []\n",
    "    x = os.walk(data_dir)\n",
    "    #print(x)\n",
    "    for path, d, filelist in x:\n",
    "        print(filelist)\n",
    "        for filename in filelist:\n",
    "            #print(filename)\n",
    "            file_glob = os.path.join(path, filename)\n",
    "            files_list.extend(glob.glob(file_glob))\n",
    "    use_gpu = torch.cuda.is_available()\n",
    "    pbar = tqdm(files_list)\n",
    "    for x_path in files_list and pbar:\n",
    "        file_name = x_path.split('/')[-1]\n",
    "        #print(file_name)\n",
    "        file_names, ys = extractor(x_path, model, use_gpu, file_name)\n",
    "        features.append(ys.tolist())\n",
    "        names.append(file_names)\n",
    "        pbar.set_description(\"Extracting features\")\n",
    "        # 设置进度条右边显示的信息\n",
    "        pbar.set_postfix(Img_name=file_names)\n",
    "        time.sleep(0.1)\n",
    "        # 文件路径\n",
    "    file_path = 'features_480360_71.txt'###修改txt名称\n",
    "\n",
    "    # 使用'w'模式打开文件，如果文件不存在则创建，如果存在则覆盖原有内容\n",
    "    # 使用'a'模式打开文件，如果文件不存在则创建，如果存在则接着原有内容补充\n",
    "    with open(file_path, 'a', encoding='utf-8') as file:\n",
    "        for i in range(len(features)):\n",
    "            #file.write(\"\\n\")\n",
    "            a=str(features[i]).replace(\"[\",\"\")\n",
    "            b=a.replace(\"]\",\"\")\n",
    "            file.write(b)\n",
    "            file.write(\"\\n\")\n",
    "\n",
    "    \n",
    "    print(f'文本已写入到文件：{file_path}')\n"
   ]
  }
 ],
 "metadata": {
  "kernelspec": {
   "display_name": "PMT",
   "language": "python",
   "name": "python3"
  },
  "language_info": {
   "codemirror_mode": {
    "name": "ipython",
    "version": 3
   },
   "file_extension": ".py",
   "mimetype": "text/x-python",
   "name": "python",
   "nbconvert_exporter": "python",
   "pygments_lexer": "ipython3",
   "version": "3.9.19"
  }
 },
 "nbformat": 4,
 "nbformat_minor": 2
}
